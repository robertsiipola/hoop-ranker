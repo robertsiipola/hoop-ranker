{
 "cells": [
  {
   "cell_type": "code",
   "execution_count": 13,
   "metadata": {},
   "outputs": [],
   "source": [
    "import polars as pl\n",
    "from nba_api.stats.static import teams\n",
    "from nba_api.stats.endpoints import leaguegamefinder"
   ]
  },
  {
   "cell_type": "code",
   "execution_count": 20,
   "metadata": {},
   "outputs": [
    {
     "name": "stderr",
     "output_type": "stream",
     "text": [
      "/var/folders/gq/l5m4ysn938350ltk4ydyqh2m0000gn/T/ipykernel_25534/591021757.py:11: DataOrientationWarning: Row orientation inferred during DataFrame construction. Explicitly specify the orientation by passing `orient=\"row\"` to silence this warning.\n",
      "  df_games = pl.DataFrame(rows, schema=headers)\n"
     ]
    }
   ],
   "source": [
    "nba_teams = teams.get_teams()\n",
    "\n",
    "df_teams = pl.DataFrame(nba_teams)\n",
    "nop_id = df_teams.filter(pl.col(\"abbreviation\") == \"NOP\").select(\"id\").item()\n",
    "\n",
    "gamefinder = leaguegamefinder.LeagueGameFinder(team_id_nullable=nop_id)\n",
    "games = gamefinder.get_dict()\n",
    "\n",
    "headers = games[\"resultSets\"][0][\"headers\"]\n",
    "rows = games[\"resultSets\"][0][\"rowSet\"]\n",
    "df_games = pl.DataFrame(rows, schema=headers)\n"
   ]
  },
  {
   "cell_type": "code",
   "execution_count": 49,
   "metadata": {},
   "outputs": [
    {
     "name": "stderr",
     "output_type": "stream",
     "text": [
      "/var/folders/gq/l5m4ysn938350ltk4ydyqh2m0000gn/T/ipykernel_25534/3113691651.py:6: DataOrientationWarning: Row orientation inferred during DataFrame construction. Explicitly specify the orientation by passing `orient=\"row\"` to silence this warning.\n",
      "  df_games = pl.DataFrame(rows, schema=headers)\n"
     ]
    }
   ],
   "source": [
    "gamefinder = leaguegamefinder.LeagueGameFinder(season_nullable=\"2023-24\")\n",
    "games = gamefinder.get_dict()\n",
    "\n",
    "headers = games[\"resultSets\"][0][\"headers\"]\n",
    "rows = games[\"resultSets\"][0][\"rowSet\"]\n",
    "df_games = pl.DataFrame(rows, schema=headers)"
   ]
  },
  {
   "cell_type": "code",
   "execution_count": 51,
   "metadata": {},
   "outputs": [
    {
     "data": {
      "text/html": [
       "<div><style>\n",
       ".dataframe > thead > tr,\n",
       ".dataframe > tbody > tr {\n",
       "  text-align: right;\n",
       "  white-space: pre-wrap;\n",
       "}\n",
       "</style>\n",
       "<small>shape: (2_776, 28)</small><table border=\"1\" class=\"dataframe\"><thead><tr><th>SEASON_ID</th><th>TEAM_ID</th><th>TEAM_ABBREVIATION</th><th>TEAM_NAME</th><th>GAME_ID</th><th>GAME_DATE</th><th>MATCHUP</th><th>WL</th><th>MIN</th><th>PTS</th><th>FGM</th><th>FGA</th><th>FG_PCT</th><th>FG3M</th><th>FG3A</th><th>FG3_PCT</th><th>FTM</th><th>FTA</th><th>FT_PCT</th><th>OREB</th><th>DREB</th><th>REB</th><th>AST</th><th>STL</th><th>BLK</th><th>TOV</th><th>PF</th><th>PLUS_MINUS</th></tr><tr><td>str</td><td>i64</td><td>str</td><td>str</td><td>str</td><td>str</td><td>str</td><td>str</td><td>i64</td><td>i64</td><td>i64</td><td>i64</td><td>f64</td><td>i64</td><td>i64</td><td>f64</td><td>i64</td><td>i64</td><td>f64</td><td>i64</td><td>i64</td><td>i64</td><td>i64</td><td>i64</td><td>i64</td><td>i64</td><td>i64</td><td>f64</td></tr></thead><tbody><tr><td>&quot;42023&quot;</td><td>1610612738</td><td>&quot;BOS&quot;</td><td>&quot;Boston Celtics&quot;</td><td>&quot;0042300405&quot;</td><td>&quot;2024-06-17&quot;</td><td>&quot;BOS vs. DAL&quot;</td><td>&quot;W&quot;</td><td>240</td><td>106</td><td>38</td><td>89</td><td>0.427</td><td>13</td><td>39</td><td>0.333</td><td>17</td><td>20</td><td>0.85</td><td>15</td><td>36</td><td>51</td><td>25</td><td>9</td><td>2</td><td>7</td><td>15</td><td>18.0</td></tr><tr><td>&quot;42023&quot;</td><td>1610612742</td><td>&quot;DAL&quot;</td><td>&quot;Dallas Mavericks&quot;</td><td>&quot;0042300405&quot;</td><td>&quot;2024-06-17&quot;</td><td>&quot;DAL @ BOS&quot;</td><td>&quot;L&quot;</td><td>240</td><td>88</td><td>35</td><td>78</td><td>0.449</td><td>11</td><td>37</td><td>0.297</td><td>7</td><td>13</td><td>0.538</td><td>7</td><td>28</td><td>35</td><td>18</td><td>4</td><td>4</td><td>13</td><td>20</td><td>-18.0</td></tr><tr><td>&quot;42023&quot;</td><td>1610612738</td><td>&quot;BOS&quot;</td><td>&quot;Boston Celtics&quot;</td><td>&quot;0042300404&quot;</td><td>&quot;2024-06-14&quot;</td><td>&quot;BOS @ DAL&quot;</td><td>&quot;L&quot;</td><td>239</td><td>84</td><td>29</td><td>80</td><td>0.363</td><td>14</td><td>41</td><td>0.341</td><td>12</td><td>13</td><td>0.923</td><td>4</td><td>27</td><td>31</td><td>18</td><td>2</td><td>5</td><td>13</td><td>19</td><td>-38.0</td></tr><tr><td>&quot;42023&quot;</td><td>1610612742</td><td>&quot;DAL&quot;</td><td>&quot;Dallas Mavericks&quot;</td><td>&quot;0042300404&quot;</td><td>&quot;2024-06-14&quot;</td><td>&quot;DAL vs. BOS&quot;</td><td>&quot;W&quot;</td><td>240</td><td>122</td><td>46</td><td>91</td><td>0.505</td><td>15</td><td>37</td><td>0.405</td><td>15</td><td>22</td><td>0.682</td><td>13</td><td>39</td><td>52</td><td>21</td><td>7</td><td>2</td><td>8</td><td>17</td><td>38.0</td></tr><tr><td>&quot;42023&quot;</td><td>1610612738</td><td>&quot;BOS&quot;</td><td>&quot;Boston Celtics&quot;</td><td>&quot;0042300403&quot;</td><td>&quot;2024-06-12&quot;</td><td>&quot;BOS @ DAL&quot;</td><td>&quot;W&quot;</td><td>240</td><td>106</td><td>38</td><td>82</td><td>0.463</td><td>17</td><td>46</td><td>0.37</td><td>13</td><td>14</td><td>0.929</td><td>6</td><td>30</td><td>36</td><td>26</td><td>4</td><td>6</td><td>9</td><td>19</td><td>7.0</td></tr><tr><td>&hellip;</td><td>&hellip;</td><td>&hellip;</td><td>&hellip;</td><td>&hellip;</td><td>&hellip;</td><td>&hellip;</td><td>&hellip;</td><td>&hellip;</td><td>&hellip;</td><td>&hellip;</td><td>&hellip;</td><td>&hellip;</td><td>&hellip;</td><td>&hellip;</td><td>&hellip;</td><td>&hellip;</td><td>&hellip;</td><td>&hellip;</td><td>&hellip;</td><td>&hellip;</td><td>&hellip;</td><td>&hellip;</td><td>&hellip;</td><td>&hellip;</td><td>&hellip;</td><td>&hellip;</td><td>&hellip;</td></tr><tr><td>&quot;12023&quot;</td><td>1610612747</td><td>&quot;LAL&quot;</td><td>&quot;Los Angeles Lakers&quot;</td><td>&quot;0012300003&quot;</td><td>&quot;2023-10-07&quot;</td><td>&quot;LAL @ GSW&quot;</td><td>&quot;L&quot;</td><td>239</td><td>108</td><td>41</td><td>100</td><td>0.41</td><td>15</td><td>38</td><td>0.395</td><td>11</td><td>20</td><td>0.55</td><td>10</td><td>36</td><td>46</td><td>21</td><td>10</td><td>7</td><td>17</td><td>20</td><td>-13.0</td></tr><tr><td>&quot;12023&quot;</td><td>1610612750</td><td>&quot;MIN&quot;</td><td>&quot;Minnesota Timberwolves&quot;</td><td>&quot;0012300002&quot;</td><td>&quot;2023-10-07&quot;</td><td>&quot;MIN @ DAL&quot;</td><td>&quot;W&quot;</td><td>239</td><td>104</td><td>39</td><td>90</td><td>0.433</td><td>14</td><td>31</td><td>0.452</td><td>12</td><td>16</td><td>0.75</td><td>13</td><td>33</td><td>46</td><td>25</td><td>9</td><td>8</td><td>18</td><td>23</td><td>8.0</td></tr><tr><td>&quot;12023&quot;</td><td>1610612744</td><td>&quot;GSW&quot;</td><td>&quot;Golden State Warriors&quot;</td><td>&quot;0012300003&quot;</td><td>&quot;2023-10-07&quot;</td><td>&quot;GSW vs. LAL&quot;</td><td>&quot;W&quot;</td><td>241</td><td>125</td><td>46</td><td>98</td><td>0.469</td><td>17</td><td>48</td><td>0.354</td><td>16</td><td>25</td><td>0.64</td><td>11</td><td>50</td><td>61</td><td>27</td><td>11</td><td>8</td><td>19</td><td>20</td><td>14.2</td></tr><tr><td>&quot;12023&quot;</td><td>1610612750</td><td>&quot;MIN&quot;</td><td>&quot;Minnesota Timberwolves&quot;</td><td>&quot;0012300001&quot;</td><td>&quot;2023-10-05&quot;</td><td>&quot;MIN vs. DAL&quot;</td><td>&quot;W&quot;</td><td>239</td><td>111</td><td>42</td><td>95</td><td>0.442</td><td>11</td><td>35</td><td>0.314</td><td>16</td><td>22</td><td>0.727</td><td>11</td><td>45</td><td>56</td><td>28</td><td>7</td><td>12</td><td>16</td><td>20</td><td>12.0</td></tr><tr><td>&quot;12023&quot;</td><td>1610612742</td><td>&quot;DAL&quot;</td><td>&quot;Dallas Mavericks&quot;</td><td>&quot;0012300001&quot;</td><td>&quot;2023-10-05&quot;</td><td>&quot;DAL @ MIN&quot;</td><td>&quot;L&quot;</td><td>240</td><td>99</td><td>34</td><td>92</td><td>0.37</td><td>14</td><td>46</td><td>0.304</td><td>17</td><td>30</td><td>0.567</td><td>7</td><td>35</td><td>42</td><td>18</td><td>11</td><td>8</td><td>13</td><td>25</td><td>-12.0</td></tr></tbody></table></div>"
      ],
      "text/plain": [
       "shape: (2_776, 28)\n",
       "┌───────────┬────────────┬───────────────────┬──────────────────┬───┬─────┬─────┬─────┬────────────┐\n",
       "│ SEASON_ID ┆ TEAM_ID    ┆ TEAM_ABBREVIATION ┆ TEAM_NAME        ┆ … ┆ BLK ┆ TOV ┆ PF  ┆ PLUS_MINUS │\n",
       "│ ---       ┆ ---        ┆ ---               ┆ ---              ┆   ┆ --- ┆ --- ┆ --- ┆ ---        │\n",
       "│ str       ┆ i64        ┆ str               ┆ str              ┆   ┆ i64 ┆ i64 ┆ i64 ┆ f64        │\n",
       "╞═══════════╪════════════╪═══════════════════╪══════════════════╪═══╪═════╪═════╪═════╪════════════╡\n",
       "│ 42023     ┆ 1610612738 ┆ BOS               ┆ Boston Celtics   ┆ … ┆ 2   ┆ 7   ┆ 15  ┆ 18.0       │\n",
       "│ 42023     ┆ 1610612742 ┆ DAL               ┆ Dallas Mavericks ┆ … ┆ 4   ┆ 13  ┆ 20  ┆ -18.0      │\n",
       "│ 42023     ┆ 1610612738 ┆ BOS               ┆ Boston Celtics   ┆ … ┆ 5   ┆ 13  ┆ 19  ┆ -38.0      │\n",
       "│ 42023     ┆ 1610612742 ┆ DAL               ┆ Dallas Mavericks ┆ … ┆ 2   ┆ 8   ┆ 17  ┆ 38.0       │\n",
       "│ 42023     ┆ 1610612738 ┆ BOS               ┆ Boston Celtics   ┆ … ┆ 6   ┆ 9   ┆ 19  ┆ 7.0        │\n",
       "│ …         ┆ …          ┆ …                 ┆ …                ┆ … ┆ …   ┆ …   ┆ …   ┆ …          │\n",
       "│ 12023     ┆ 1610612747 ┆ LAL               ┆ Los Angeles      ┆ … ┆ 7   ┆ 17  ┆ 20  ┆ -13.0      │\n",
       "│           ┆            ┆                   ┆ Lakers           ┆   ┆     ┆     ┆     ┆            │\n",
       "│ 12023     ┆ 1610612750 ┆ MIN               ┆ Minnesota        ┆ … ┆ 8   ┆ 18  ┆ 23  ┆ 8.0        │\n",
       "│           ┆            ┆                   ┆ Timberwolves     ┆   ┆     ┆     ┆     ┆            │\n",
       "│ 12023     ┆ 1610612744 ┆ GSW               ┆ Golden State     ┆ … ┆ 8   ┆ 19  ┆ 20  ┆ 14.2       │\n",
       "│           ┆            ┆                   ┆ Warriors         ┆   ┆     ┆     ┆     ┆            │\n",
       "│ 12023     ┆ 1610612750 ┆ MIN               ┆ Minnesota        ┆ … ┆ 12  ┆ 16  ┆ 20  ┆ 12.0       │\n",
       "│           ┆            ┆                   ┆ Timberwolves     ┆   ┆     ┆     ┆     ┆            │\n",
       "│ 12023     ┆ 1610612742 ┆ DAL               ┆ Dallas Mavericks ┆ … ┆ 8   ┆ 13  ┆ 25  ┆ -12.0      │\n",
       "└───────────┴────────────┴───────────────────┴──────────────────┴───┴─────┴─────┴─────┴────────────┘"
      ]
     },
     "execution_count": 51,
     "metadata": {},
     "output_type": "execute_result"
    }
   ],
   "source": [
    "df_games.filter(pl.col(\"TEAM_ID\").is_in(team_ids)).sort(\"GAME_DATE\", descending=True)"
   ]
  },
  {
   "cell_type": "code",
   "execution_count": null,
   "metadata": {},
   "outputs": [],
   "source": []
  },
  {
   "cell_type": "code",
   "execution_count": null,
   "metadata": {},
   "outputs": [],
   "source": []
  },
  {
   "cell_type": "code",
   "execution_count": null,
   "metadata": {},
   "outputs": [],
   "source": []
  },
  {
   "cell_type": "code",
   "execution_count": 47,
   "metadata": {},
   "outputs": [
    {
     "data": {
      "text/html": [
       "<div><style>\n",
       ".dataframe > thead > tr,\n",
       ".dataframe > tbody > tr {\n",
       "  text-align: right;\n",
       "  white-space: pre-wrap;\n",
       "}\n",
       "</style>\n",
       "<small>shape: (0, 28)</small><table border=\"1\" class=\"dataframe\"><thead><tr><th>SEASON_ID</th><th>TEAM_ID</th><th>TEAM_ABBREVIATION</th><th>TEAM_NAME</th><th>GAME_ID</th><th>GAME_DATE</th><th>MATCHUP</th><th>WL</th><th>MIN</th><th>PTS</th><th>FGM</th><th>FGA</th><th>FG_PCT</th><th>FG3M</th><th>FG3A</th><th>FG3_PCT</th><th>FTM</th><th>FTA</th><th>FT_PCT</th><th>OREB</th><th>DREB</th><th>REB</th><th>AST</th><th>STL</th><th>BLK</th><th>TOV</th><th>PF</th><th>PLUS_MINUS</th></tr><tr><td>null</td><td>null</td><td>null</td><td>null</td><td>null</td><td>null</td><td>null</td><td>null</td><td>null</td><td>null</td><td>null</td><td>null</td><td>null</td><td>null</td><td>null</td><td>null</td><td>null</td><td>null</td><td>null</td><td>null</td><td>null</td><td>null</td><td>null</td><td>null</td><td>null</td><td>null</td><td>null</td><td>null</td></tr></thead><tbody></tbody></table></div>"
      ],
      "text/plain": [
       "shape: (0, 28)\n",
       "┌───────────┬─────────┬───────────────────┬───────────┬───┬──────┬──────┬──────┬────────────┐\n",
       "│ SEASON_ID ┆ TEAM_ID ┆ TEAM_ABBREVIATION ┆ TEAM_NAME ┆ … ┆ BLK  ┆ TOV  ┆ PF   ┆ PLUS_MINUS │\n",
       "│ ---       ┆ ---     ┆ ---               ┆ ---       ┆   ┆ ---  ┆ ---  ┆ ---  ┆ ---        │\n",
       "│ null      ┆ null    ┆ null              ┆ null      ┆   ┆ null ┆ null ┆ null ┆ null       │\n",
       "╞═══════════╪═════════╪═══════════════════╪═══════════╪═══╪══════╪══════╪══════╪════════════╡\n",
       "└───────────┴─────────┴───────────────────┴───────────┴───┴──────┴──────┴──────┴────────────┘"
      ]
     },
     "execution_count": 47,
     "metadata": {},
     "output_type": "execute_result"
    }
   ],
   "source": [
    "df_games"
   ]
  },
  {
   "cell_type": "code",
   "execution_count": 37,
   "metadata": {},
   "outputs": [
    {
     "data": {
      "text/plain": [
       "[1610612737,\n",
       " 1610612738,\n",
       " 1610612739,\n",
       " 1610612740,\n",
       " 1610612741,\n",
       " 1610612742,\n",
       " 1610612743,\n",
       " 1610612744,\n",
       " 1610612745,\n",
       " 1610612746,\n",
       " 1610612747,\n",
       " 1610612748,\n",
       " 1610612749,\n",
       " 1610612750,\n",
       " 1610612751,\n",
       " 1610612752,\n",
       " 1610612753,\n",
       " 1610612754,\n",
       " 1610612755,\n",
       " 1610612756,\n",
       " 1610612757,\n",
       " 1610612758,\n",
       " 1610612759,\n",
       " 1610612760,\n",
       " 1610612761,\n",
       " 1610612762,\n",
       " 1610612763,\n",
       " 1610612764,\n",
       " 1610612765,\n",
       " 1610612766]"
      ]
     },
     "execution_count": 37,
     "metadata": {},
     "output_type": "execute_result"
    }
   ],
   "source": [
    "team_ids = [team[\"id\"] for team in nba_teams]\n",
    "team_ids\n"
   ]
  },
  {
   "cell_type": "code",
   "execution_count": 50,
   "metadata": {},
   "outputs": [
    {
     "data": {
      "text/html": [
       "<div><style>\n",
       ".dataframe > thead > tr,\n",
       ".dataframe > tbody > tr {\n",
       "  text-align: right;\n",
       "  white-space: pre-wrap;\n",
       "}\n",
       "</style>\n",
       "<small>shape: (4_383, 28)</small><table border=\"1\" class=\"dataframe\"><thead><tr><th>SEASON_ID</th><th>TEAM_ID</th><th>TEAM_ABBREVIATION</th><th>TEAM_NAME</th><th>GAME_ID</th><th>GAME_DATE</th><th>MATCHUP</th><th>WL</th><th>MIN</th><th>PTS</th><th>FGM</th><th>FGA</th><th>FG_PCT</th><th>FG3M</th><th>FG3A</th><th>FG3_PCT</th><th>FTM</th><th>FTA</th><th>FT_PCT</th><th>OREB</th><th>DREB</th><th>REB</th><th>AST</th><th>STL</th><th>BLK</th><th>TOV</th><th>PF</th><th>PLUS_MINUS</th></tr><tr><td>str</td><td>i64</td><td>str</td><td>str</td><td>str</td><td>str</td><td>str</td><td>str</td><td>i64</td><td>i64</td><td>i64</td><td>i64</td><td>f64</td><td>i64</td><td>i64</td><td>f64</td><td>i64</td><td>i64</td><td>f64</td><td>i64</td><td>i64</td><td>i64</td><td>i64</td><td>i64</td><td>i64</td><td>i64</td><td>i64</td><td>f64</td></tr></thead><tbody><tr><td>&quot;42023&quot;</td><td>1610612738</td><td>&quot;BOS&quot;</td><td>&quot;Boston Celtics&quot;</td><td>&quot;0042300405&quot;</td><td>&quot;2024-06-17&quot;</td><td>&quot;BOS vs. DAL&quot;</td><td>&quot;W&quot;</td><td>240</td><td>106</td><td>38</td><td>89</td><td>0.427</td><td>13</td><td>39</td><td>0.333</td><td>17</td><td>20</td><td>0.85</td><td>15</td><td>36</td><td>51</td><td>25</td><td>9</td><td>2</td><td>7</td><td>15</td><td>18.0</td></tr><tr><td>&quot;42023&quot;</td><td>1610612742</td><td>&quot;DAL&quot;</td><td>&quot;Dallas Mavericks&quot;</td><td>&quot;0042300405&quot;</td><td>&quot;2024-06-17&quot;</td><td>&quot;DAL @ BOS&quot;</td><td>&quot;L&quot;</td><td>240</td><td>88</td><td>35</td><td>78</td><td>0.449</td><td>11</td><td>37</td><td>0.297</td><td>7</td><td>13</td><td>0.538</td><td>7</td><td>28</td><td>35</td><td>18</td><td>4</td><td>4</td><td>13</td><td>20</td><td>-18.0</td></tr><tr><td>&quot;42023&quot;</td><td>1610612738</td><td>&quot;BOS&quot;</td><td>&quot;Boston Celtics&quot;</td><td>&quot;0042300404&quot;</td><td>&quot;2024-06-14&quot;</td><td>&quot;BOS @ DAL&quot;</td><td>&quot;L&quot;</td><td>239</td><td>84</td><td>29</td><td>80</td><td>0.363</td><td>14</td><td>41</td><td>0.341</td><td>12</td><td>13</td><td>0.923</td><td>4</td><td>27</td><td>31</td><td>18</td><td>2</td><td>5</td><td>13</td><td>19</td><td>-38.0</td></tr><tr><td>&quot;42023&quot;</td><td>1610612742</td><td>&quot;DAL&quot;</td><td>&quot;Dallas Mavericks&quot;</td><td>&quot;0042300404&quot;</td><td>&quot;2024-06-14&quot;</td><td>&quot;DAL vs. BOS&quot;</td><td>&quot;W&quot;</td><td>240</td><td>122</td><td>46</td><td>91</td><td>0.505</td><td>15</td><td>37</td><td>0.405</td><td>15</td><td>22</td><td>0.682</td><td>13</td><td>39</td><td>52</td><td>21</td><td>7</td><td>2</td><td>8</td><td>17</td><td>38.0</td></tr><tr><td>&quot;42023&quot;</td><td>1610612738</td><td>&quot;BOS&quot;</td><td>&quot;Boston Celtics&quot;</td><td>&quot;0042300403&quot;</td><td>&quot;2024-06-12&quot;</td><td>&quot;BOS @ DAL&quot;</td><td>&quot;W&quot;</td><td>240</td><td>106</td><td>38</td><td>82</td><td>0.463</td><td>17</td><td>46</td><td>0.37</td><td>13</td><td>14</td><td>0.929</td><td>6</td><td>30</td><td>36</td><td>26</td><td>4</td><td>6</td><td>9</td><td>19</td><td>7.0</td></tr><tr><td>&hellip;</td><td>&hellip;</td><td>&hellip;</td><td>&hellip;</td><td>&hellip;</td><td>&hellip;</td><td>&hellip;</td><td>&hellip;</td><td>&hellip;</td><td>&hellip;</td><td>&hellip;</td><td>&hellip;</td><td>&hellip;</td><td>&hellip;</td><td>&hellip;</td><td>&hellip;</td><td>&hellip;</td><td>&hellip;</td><td>&hellip;</td><td>&hellip;</td><td>&hellip;</td><td>&hellip;</td><td>&hellip;</td><td>&hellip;</td><td>&hellip;</td><td>&hellip;</td><td>&hellip;</td><td>&hellip;</td></tr><tr><td>&quot;12023&quot;</td><td>1610612742</td><td>&quot;DAL&quot;</td><td>&quot;Dallas Mavericks&quot;</td><td>&quot;0012300001&quot;</td><td>&quot;2023-10-05&quot;</td><td>&quot;DAL @ MIN&quot;</td><td>&quot;L&quot;</td><td>240</td><td>99</td><td>34</td><td>92</td><td>0.37</td><td>14</td><td>46</td><td>0.304</td><td>17</td><td>30</td><td>0.567</td><td>7</td><td>35</td><td>42</td><td>18</td><td>11</td><td>8</td><td>13</td><td>25</td><td>-12.0</td></tr><tr><td>&quot;12023&quot;</td><td>104</td><td>&quot;PER&quot;</td><td>&quot;Perth Wildcats&quot;</td><td>&quot;2012300002&quot;</td><td>&quot;2023-09-08&quot;</td><td>&quot;PER @ GLI&quot;</td><td>&quot;W&quot;</td><td>238</td><td>127</td><td>39</td><td>77</td><td>0.506</td><td>15</td><td>29</td><td>0.517</td><td>34</td><td>39</td><td>0.872</td><td>10</td><td>29</td><td>39</td><td>25</td><td>10</td><td>8</td><td>21</td><td>23</td><td>15.0</td></tr><tr><td>&quot;12023&quot;</td><td>1612709930</td><td>&quot;GLI&quot;</td><td>&quot;G League Ignite&quot;</td><td>&quot;2012300002&quot;</td><td>&quot;2023-09-08&quot;</td><td>&quot;GLI vs. PER&quot;</td><td>&quot;L&quot;</td><td>240</td><td>112</td><td>37</td><td>90</td><td>0.411</td><td>9</td><td>29</td><td>0.31</td><td>29</td><td>35</td><td>0.829</td><td>17</td><td>25</td><td>42</td><td>24</td><td>12</td><td>10</td><td>17</td><td>29</td><td>-15.0</td></tr><tr><td>&quot;12023&quot;</td><td>1612709930</td><td>&quot;GLI&quot;</td><td>&quot;G League Ignite&quot;</td><td>&quot;2012300001&quot;</td><td>&quot;2023-09-06&quot;</td><td>&quot;GLI vs. PER&quot;</td><td>&quot;W&quot;</td><td>240</td><td>124</td><td>48</td><td>82</td><td>0.585</td><td>8</td><td>22</td><td>0.364</td><td>20</td><td>23</td><td>0.87</td><td>11</td><td>32</td><td>43</td><td>27</td><td>12</td><td>10</td><td>22</td><td>23</td><td>19.0</td></tr><tr><td>&quot;12023&quot;</td><td>104</td><td>&quot;PER&quot;</td><td>&quot;Perth Wildcats&quot;</td><td>&quot;2012300001&quot;</td><td>&quot;2023-09-06&quot;</td><td>&quot;PER @ GLI&quot;</td><td>&quot;L&quot;</td><td>239</td><td>105</td><td>36</td><td>91</td><td>0.396</td><td>11</td><td>36</td><td>0.306</td><td>22</td><td>26</td><td>0.846</td><td>21</td><td>19</td><td>40</td><td>27</td><td>13</td><td>8</td><td>21</td><td>21</td><td>-19.0</td></tr></tbody></table></div>"
      ],
      "text/plain": [
       "shape: (4_383, 28)\n",
       "┌───────────┬────────────┬───────────────────┬──────────────────┬───┬─────┬─────┬─────┬────────────┐\n",
       "│ SEASON_ID ┆ TEAM_ID    ┆ TEAM_ABBREVIATION ┆ TEAM_NAME        ┆ … ┆ BLK ┆ TOV ┆ PF  ┆ PLUS_MINUS │\n",
       "│ ---       ┆ ---        ┆ ---               ┆ ---              ┆   ┆ --- ┆ --- ┆ --- ┆ ---        │\n",
       "│ str       ┆ i64        ┆ str               ┆ str              ┆   ┆ i64 ┆ i64 ┆ i64 ┆ f64        │\n",
       "╞═══════════╪════════════╪═══════════════════╪══════════════════╪═══╪═════╪═════╪═════╪════════════╡\n",
       "│ 42023     ┆ 1610612738 ┆ BOS               ┆ Boston Celtics   ┆ … ┆ 2   ┆ 7   ┆ 15  ┆ 18.0       │\n",
       "│ 42023     ┆ 1610612742 ┆ DAL               ┆ Dallas Mavericks ┆ … ┆ 4   ┆ 13  ┆ 20  ┆ -18.0      │\n",
       "│ 42023     ┆ 1610612738 ┆ BOS               ┆ Boston Celtics   ┆ … ┆ 5   ┆ 13  ┆ 19  ┆ -38.0      │\n",
       "│ 42023     ┆ 1610612742 ┆ DAL               ┆ Dallas Mavericks ┆ … ┆ 2   ┆ 8   ┆ 17  ┆ 38.0       │\n",
       "│ 42023     ┆ 1610612738 ┆ BOS               ┆ Boston Celtics   ┆ … ┆ 6   ┆ 9   ┆ 19  ┆ 7.0        │\n",
       "│ …         ┆ …          ┆ …                 ┆ …                ┆ … ┆ …   ┆ …   ┆ …   ┆ …          │\n",
       "│ 12023     ┆ 1610612742 ┆ DAL               ┆ Dallas Mavericks ┆ … ┆ 8   ┆ 13  ┆ 25  ┆ -12.0      │\n",
       "│ 12023     ┆ 104        ┆ PER               ┆ Perth Wildcats   ┆ … ┆ 8   ┆ 21  ┆ 23  ┆ 15.0       │\n",
       "│ 12023     ┆ 1612709930 ┆ GLI               ┆ G League Ignite  ┆ … ┆ 10  ┆ 17  ┆ 29  ┆ -15.0      │\n",
       "│ 12023     ┆ 1612709930 ┆ GLI               ┆ G League Ignite  ┆ … ┆ 10  ┆ 22  ┆ 23  ┆ 19.0       │\n",
       "│ 12023     ┆ 104        ┆ PER               ┆ Perth Wildcats   ┆ … ┆ 8   ┆ 21  ┆ 21  ┆ -19.0      │\n",
       "└───────────┴────────────┴───────────────────┴──────────────────┴───┴─────┴─────┴─────┴────────────┘"
      ]
     },
     "execution_count": 50,
     "metadata": {},
     "output_type": "execute_result"
    }
   ],
   "source": [
    "df_games"
   ]
  },
  {
   "cell_type": "code",
   "execution_count": null,
   "metadata": {},
   "outputs": [],
   "source": []
  }
 ],
 "metadata": {
  "kernelspec": {
   "display_name": ".venv",
   "language": "python",
   "name": "python3"
  },
  "language_info": {
   "codemirror_mode": {
    "name": "ipython",
    "version": 3
   },
   "file_extension": ".py",
   "mimetype": "text/x-python",
   "name": "python",
   "nbconvert_exporter": "python",
   "pygments_lexer": "ipython3",
   "version": "3.12.7"
  }
 },
 "nbformat": 4,
 "nbformat_minor": 2
}
